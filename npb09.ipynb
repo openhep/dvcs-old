{
 "cells": [
  {
   "cell_type": "markdown",
   "id": "1a28a4ec-06b1-4070-8b9a-d34f5e65ea1a",
   "metadata": {
    "tags": []
   },
   "source": [
    "<center><b><font size=\"5\">Deeply virtual Compton scattering at small xB and the access to the GPD H</font></b></center><br>\n",
    "This is the jupyter/python code that reproduces some numbers and figures from paper by K. Kumericki and D. Mueller, <i>Deeply virtual Compton scattering at small xB and the access to the GPD H</i>, published in Nuclear Physics <b>B841</b> 1-58 (2010) [arXiv:<a href='https://arxiv.org/abs/0904.0458'>0904.0458</a>]."
   ]
  },
  {
   "cell_type": "markdown",
   "id": "2330e041-329a-40dd-97a2-2cae237a7eee",
   "metadata": {},
   "source": [
    "Figures for the published paper were produced by older Fortan version of the same code. They also contain NNLO numbers and curves, but Python gepard have only NLO implemented at the moment."
   ]
  },
  {
   "cell_type": "markdown",
   "id": "4e8997bc-feb6-4212-9201-24ed3b17aa09",
   "metadata": {
    "tags": []
   },
   "source": [
    "# Intro"
   ]
  },
  {
   "cell_type": "code",
   "execution_count": 1,
   "id": "b845ca7d-dd53-48b3-b883-a92c670d0a10",
   "metadata": {},
   "outputs": [],
   "source": [
    "import numpy as np\n",
    "import matplotlib\n",
    "import matplotlib.pyplot as plt"
   ]
  },
  {
   "cell_type": "code",
   "execution_count": 2,
   "id": "f6a85715-8cd6-46da-9c90-e99b8e4032cf",
   "metadata": {},
   "outputs": [
    {
     "name": "stdout",
     "output_type": "stream",
     "text": [
      "0.9.9\n"
     ]
    }
   ],
   "source": [
    "import gepard as g\n",
    "print(g.__version__)"
   ]
  },
  {
   "cell_type": "code",
   "execution_count": 3,
   "id": "b6cc00a1-c163-422e-8d17-d50b2a6197bb",
   "metadata": {},
   "outputs": [],
   "source": [
    "DVCSpoints = g.data.dset[36].copy()\n",
    "for id in range(37, 46):\n",
    "    DVCSpoints += g.data.dset[id]\n",
    "\n",
    "DISpoints = g.data.dset[201].copy()\n",
    "for id in range(202, 213):\n",
    "    DISpoints += g.data.dset[id]"
   ]
  },
  {
   "cell_type": "markdown",
   "id": "0add8797-b00c-48ab-8042-f71166934d69",
   "metadata": {},
   "source": [
    "# LO fits"
   ]
  },
  {
   "cell_type": "markdown",
   "id": "13a3c074-296e-41ec-aa79-bc9dcb1e4eec",
   "metadata": {},
   "source": [
    "## DIS"
   ]
  },
  {
   "cell_type": "code",
   "execution_count": 4,
   "id": "0b85a733-191e-4135-b5f1-0df2a2776477",
   "metadata": {},
   "outputs": [],
   "source": [
    "class MyTheory(g.PWNormGPD, g.MellinBarnesCFF, g.DIS, g.BMK):\n",
    "    pass"
   ]
  },
  {
   "cell_type": "code",
   "execution_count": 5,
   "id": "71ef6c55-4df7-4a56-a063-10f9161bfa2a",
   "metadata": {},
   "outputs": [],
   "source": [
    "th = MyTheory()"
   ]
  },
  {
   "cell_type": "code",
   "execution_count": 6,
   "id": "d0b48191-e5d0-44c9-b20d-0e5c7df3190b",
   "metadata": {},
   "outputs": [],
   "source": [
    "th.parameters.update({'ns': 0.15, 'al0s': 1., 'alps': 0.15, 'ms2': 1.,\n",
    "                        'secs': 0., 'al0g': 1.1, 'alpg': 0.15, 'mg2': 0.7})"
   ]
  },
  {
   "cell_type": "code",
   "execution_count": 7,
   "id": "f4d0f817-8a72-4512-a60b-6e75fcfea146",
   "metadata": {},
   "outputs": [],
   "source": [
    "fitpoints = DISpoints\n",
    "free_pars = ['ns', 'al0s', 'al0g']"
   ]
  },
  {
   "cell_type": "code",
   "execution_count": 8,
   "id": "127247de-4e25-4f89-9c6a-b7e1659e8a2a",
   "metadata": {},
   "outputs": [],
   "source": [
    "f = g.MinuitFitter(DISpoints, th)\n",
    "f.minuit.print_level = 1\n",
    "\n",
    "f.fix_parameters('ALL')\n",
    "f.release_parameters(*free_pars)\n",
    "res = f.fit()"
   ]
  },
  {
   "cell_type": "code",
   "execution_count": 9,
   "id": "7ead7527-10e8-4074-9ccf-118b19f5af7b",
   "metadata": {},
   "outputs": [
    {
     "name": "stdout",
     "output_type": "stream",
     "text": [
      "chisq/dof = 49.7/82\n"
     ]
    }
   ],
   "source": [
    "print('chisq/dof = {:.1f}/{}'.format(th.chisq(DISpoints), len(fitpoints)-len(free_pars)))"
   ]
  },
  {
   "cell_type": "markdown",
   "id": "ee69b808-c60c-4e0e-b8f4-f4a6687767c0",
   "metadata": {},
   "source": [
    "This is value from first column in Table 1  (49.7/82)."
   ]
  },
  {
   "cell_type": "code",
   "execution_count": 10,
   "id": "7ffdbe1a-4aaf-4bd6-90df-112a184f781e",
   "metadata": {},
   "outputs": [
    {
     "name": "stdout",
     "output_type": "stream",
     "text": [
      "ns    =    0.152 +- 0.005\n",
      "al0s  =    1.158 +- 0.008\n",
      "al0g  =    1.247 +- 0.014\n"
     ]
    }
   ],
   "source": [
    "f.print_parameters()"
   ]
  },
  {
   "cell_type": "markdown",
   "id": "670ee2e2-586e-4320-8228-c3d646f2c55f",
   "metadata": {},
   "source": [
    "More precise values:"
   ]
  },
  {
   "cell_type": "code",
   "execution_count": 11,
   "id": "855141e7-525a-4012-b9f4-6ee15ac29ed4",
   "metadata": {},
   "outputs": [
    {
     "name": "stdout",
     "output_type": "stream",
     "text": [
      "'ns': 0.15202785950397424\n",
      "'al0s': 1.1575179117465697\n",
      "'al0g': 1.2473613136604325\n"
     ]
    }
   ],
   "source": [
    "for par in free_pars:\n",
    "    print(\"'{}': {}\".format(par, th.parameters[par]))"
   ]
  },
  {
   "cell_type": "markdown",
   "id": "0a17765e-c173-43c2-b356-b9ec86c3963e",
   "metadata": {},
   "source": [
    "These values agree with Nsea, alpha^sea, and alpha^G columns of Table 2. (ns=0.152, al0s=1.158, al0g=1.247)"
   ]
  },
  {
   "cell_type": "markdown",
   "id": "e8b56d7e-2122-480d-987a-f0d8920036f9",
   "metadata": {},
   "source": [
    "## DVCS, nl-SO3 PW model"
   ]
  },
  {
   "cell_type": "code",
   "execution_count": 12,
   "id": "4de74323-6aa0-4e82-b55e-553c0867ed43",
   "metadata": {},
   "outputs": [],
   "source": [
    "fitpoints = DVCSpoints\n",
    "free_pars = ['ms2', 'secs', 'secg']"
   ]
  },
  {
   "cell_type": "code",
   "execution_count": 13,
   "id": "f25e90a2-5ec4-434d-a023-d610a1c6e295",
   "metadata": {},
   "outputs": [],
   "source": [
    "f = g.MinuitFitter(fitpoints, th)\n",
    "f.minuit.print_level = 1"
   ]
  },
  {
   "cell_type": "code",
   "execution_count": 14,
   "id": "3357789f-8c5a-4773-a76f-72721ee1dc31",
   "metadata": {},
   "outputs": [
    {
     "name": "stdout",
     "output_type": "stream",
     "text": [
      "CPU times: user 24.7 s, sys: 3.03 ms, total: 24.7 s\n",
      "Wall time: 24.8 s\n"
     ]
    }
   ],
   "source": [
    "%%time\n",
    "f.fix_parameters('ALL')\n",
    "f.release_parameters(*free_pars)\n",
    "res = f.fit()"
   ]
  },
  {
   "cell_type": "code",
   "execution_count": 15,
   "id": "e01e4aae-7953-462b-a5cb-da6ce99cde0b",
   "metadata": {},
   "outputs": [
    {
     "name": "stdout",
     "output_type": "stream",
     "text": [
      "chisq/dof = 96.5/98\n"
     ]
    }
   ],
   "source": [
    "print('chisq/dof = {:.1f}/{}'.format(th.chisq(fitpoints), len(fitpoints)-len(free_pars)))"
   ]
  },
  {
   "cell_type": "markdown",
   "id": "f71cc000-b16e-4a69-b520-41f2a5e48f95",
   "metadata": {},
   "source": [
    "This is within 1% of number in Table 1, (nl, dipole LO) row, DVCS column =  95.9/98"
   ]
  },
  {
   "cell_type": "code",
   "execution_count": 16,
   "id": "2b9f17a9-6523-40fb-a31e-edaf33fbf85d",
   "metadata": {},
   "outputs": [
    {
     "name": "stdout",
     "output_type": "stream",
     "text": [
      "'ms2': 0.4779843596710206\n",
      "'secs': -0.15133465094004292\n",
      "'secg': -0.8148297549360505\n"
     ]
    }
   ],
   "source": [
    "for par in free_pars:\n",
    "    print(\"'{}': {}\".format(par, th.parameters[par]))"
   ]
  },
  {
   "cell_type": "markdown",
   "id": "26920593-4ee9-45b1-a5ef-391a9d55d251",
   "metadata": {},
   "source": [
    "This agrees with Table 2, (nl, dipole LO) row:  ms=0.48; s^sea = -0.15; s^G = -0.81"
   ]
  },
  {
   "cell_type": "markdown",
   "id": "8b3b33af-63d1-4502-bc0f-0a3e228c9e54",
   "metadata": {},
   "source": [
    "# NLO fits"
   ]
  },
  {
   "cell_type": "markdown",
   "id": "3a474d7a-89df-4f88-b1fc-75b75e159315",
   "metadata": {
    "tags": []
   },
   "source": [
    "## DIS"
   ]
  },
  {
   "cell_type": "code",
   "execution_count": 17,
   "id": "7332fe92-74d0-4a59-894c-3b3a37232e45",
   "metadata": {},
   "outputs": [],
   "source": [
    "th = MyTheory(p=1, scheme='msbar')                                                                                                                                                                                                                                                                                          \n",
    "th.parameters.update({'ns': 0.15, 'al0s': 1., 'alps': 0.15, 'ms2': 1.,                                                                                                  \n",
    "                        'secs': 0., 'al0g': 1.1, 'alpg': 0.15, 'mg2': 0.7})"
   ]
  },
  {
   "cell_type": "code",
   "execution_count": 18,
   "id": "19c48943-fe47-4354-b9a8-b725495064ef",
   "metadata": {},
   "outputs": [],
   "source": [
    "fitpoints = DISpoints\n",
    "free_pars = ['ns', 'al0s', 'al0g']"
   ]
  },
  {
   "cell_type": "code",
   "execution_count": 19,
   "id": "a17c7de8-a8bb-4db1-9c09-e3a60cf49079",
   "metadata": {},
   "outputs": [],
   "source": [
    "f = g.MinuitFitter(DISpoints, th)\n",
    "f.minuit.print_level = 1\n",
    "\n",
    "f.fix_parameters('ALL')\n",
    "f.release_parameters(*free_pars)\n",
    "res = f.fit()"
   ]
  },
  {
   "cell_type": "code",
   "execution_count": 20,
   "id": "3cec94cb-09b4-4bd0-9849-3752fdd97b86",
   "metadata": {},
   "outputs": [
    {
     "name": "stdout",
     "output_type": "stream",
     "text": [
      "chisq/dof = 71.6/82\n"
     ]
    }
   ],
   "source": [
    "print('chisq/dof = {:.1f}/{}'.format(th.chisq(DISpoints), len(fitpoints)-len(free_pars)))"
   ]
  },
  {
   "cell_type": "markdown",
   "id": "6f028cfe-4233-4b0e-bc98-d92890cdbba5",
   "metadata": {},
   "source": [
    "This is value from first column in Table 3  (71.6/82)."
   ]
  },
  {
   "cell_type": "code",
   "execution_count": 21,
   "id": "07f070e5-7691-4c27-b415-a4b864a57e68",
   "metadata": {},
   "outputs": [
    {
     "name": "stdout",
     "output_type": "stream",
     "text": [
      "'ns': 0.16780018553930706\n",
      "'al0s': 1.1283626215016564\n",
      "'al0g': 1.0990616571425693\n"
     ]
    }
   ],
   "source": [
    "for par in free_pars:\n",
    "    print(\"'{}': {}\".format(par, th.parameters[par]))"
   ]
  },
  {
   "cell_type": "markdown",
   "id": "7f730148-cc5e-44ae-80e6-e61982883e48",
   "metadata": {},
   "source": [
    "These values agree with Nsea, alpha^sea, and alpha^G columns of Table 4. (ns=0.168, al0s=1.128, al0g=1.099)"
   ]
  },
  {
   "cell_type": "markdown",
   "id": "a8a45faf-4d40-4374-8699-32e8a6427fae",
   "metadata": {},
   "source": [
    "## DVCS, nl-SO3 PW model"
   ]
  },
  {
   "cell_type": "code",
   "execution_count": 22,
   "id": "2ff2be2d-527f-4477-8bcd-6326c4c6d9b3",
   "metadata": {},
   "outputs": [],
   "source": [
    "fitpoints = DVCSpoints\n",
    "free_pars = ['ms2', 'secs', 'secg']"
   ]
  },
  {
   "cell_type": "code",
   "execution_count": 23,
   "id": "c3499865-fb24-4dba-b1d8-8b6bbc517b26",
   "metadata": {},
   "outputs": [
    {
     "name": "stdout",
     "output_type": "stream",
     "text": [
      "CPU times: user 42.9 s, sys: 3.21 ms, total: 42.9 s\n",
      "Wall time: 42.9 s\n"
     ]
    }
   ],
   "source": [
    "%%time\n",
    "f = g.MinuitFitter(fitpoints, th)\n",
    "f.minuit.print_level = 1\n",
    "\n",
    "f.fix_parameters('ALL')\n",
    "f.release_parameters(*free_pars)\n",
    "res = f.fit()"
   ]
  },
  {
   "cell_type": "code",
   "execution_count": 24,
   "id": "43845479-9e6d-4de3-a674-9547a17f63fe",
   "metadata": {},
   "outputs": [
    {
     "name": "stdout",
     "output_type": "stream",
     "text": [
      "chisq/dof = 104.8/98\n"
     ]
    }
   ],
   "source": [
    "print('chisq/dof = {:.1f}/{}'.format(th.chisq(fitpoints), len(fitpoints)-len(free_pars)))"
   ]
  },
  {
   "cell_type": "markdown",
   "id": "5e0a6934-d61a-4d37-b77f-f2037d6e02b2",
   "metadata": {},
   "source": [
    "This is close to number in Table 3, (nl, NLO-MSBAR) row, DVCS column =  102/98"
   ]
  },
  {
   "cell_type": "code",
   "execution_count": 25,
   "id": "43dc3e1c-b4d3-427f-ac4b-e6547f4f2b23",
   "metadata": {},
   "outputs": [
    {
     "name": "stdout",
     "output_type": "stream",
     "text": [
      "'ms2': 0.5866625801160781\n",
      "'secs': 0.03446689910295511\n",
      "'secg': -0.007181242445842039\n"
     ]
    }
   ],
   "source": [
    "for par in free_pars:\n",
    "    print(\"'{}': {}\".format(par, th.parameters[par]))"
   ]
  },
  {
   "cell_type": "markdown",
   "id": "9bab5c53-51ff-4c83-867d-9907aa67cfd1",
   "metadata": {},
   "source": [
    "This is reasonably close to numbers in Table 4, (nl, NLO-MSBAR) row:  ms=0.59; s^sea = 0.04; s^G = -0.02."
   ]
  },
  {
   "cell_type": "markdown",
   "id": "18ed5728-d652-4a84-8b14-4bcb99aebe8f",
   "metadata": {},
   "source": [
    "Note that singlet MSBAR evolution in the code used for published paper had a small bug in the part nondiagonal in conformal moments, so some small numerical discrepancies are expected."
   ]
  },
  {
   "cell_type": "markdown",
   "id": "08918264-7b68-481d-b452-f5602446625b",
   "metadata": {},
   "source": [
    "# NLO fits - CSBAR scheme"
   ]
  },
  {
   "cell_type": "markdown",
   "id": "4c2b5e9c-aaa2-4e43-800b-781d7e1b884b",
   "metadata": {
    "tags": []
   },
   "source": [
    "## DIS"
   ]
  },
  {
   "cell_type": "markdown",
   "id": "bdeecdb9-0d79-43f9-b116-ee2a064c7709",
   "metadata": {},
   "source": [
    "For DIS MSBAR=CSBAR, but we have to run this anyway to set parameters for DVCS"
   ]
  },
  {
   "cell_type": "code",
   "execution_count": 26,
   "id": "dce84818-3e9a-4c29-91d1-8832ad9f76c6",
   "metadata": {},
   "outputs": [],
   "source": [
    "th = MyTheory(p=1, scheme='csbar')                                                                                                                                                                                                                                                                                           \n",
    "th.parameters.update({'ns': 0.15, 'al0s': 1., 'alps': 0.15, 'ms2': 1.,                                                                                                  \n",
    "                        'secs': 0., 'al0g': 1.1, 'alpg': 0.15, 'mg2': 0.7})"
   ]
  },
  {
   "cell_type": "code",
   "execution_count": 27,
   "id": "90acd5ea-2c66-44fb-915a-de270f37cbdf",
   "metadata": {},
   "outputs": [],
   "source": [
    "fitpoints = DISpoints\n",
    "free_pars = ['ns', 'al0s', 'al0g']"
   ]
  },
  {
   "cell_type": "code",
   "execution_count": 28,
   "id": "2e1052ca-e9ff-4d47-9c73-b8433b3a5908",
   "metadata": {},
   "outputs": [],
   "source": [
    "f = g.MinuitFitter(DISpoints, th)\n",
    "f.minuit.print_level = 1\n",
    "\n",
    "f.fix_parameters('ALL')\n",
    "f.release_parameters(*free_pars)\n",
    "res = f.fit()"
   ]
  },
  {
   "cell_type": "code",
   "execution_count": 29,
   "id": "5d137eb2-3e1a-456e-873b-d638216de4e8",
   "metadata": {},
   "outputs": [
    {
     "name": "stdout",
     "output_type": "stream",
     "text": [
      "chisq/dof = 71.6/82\n"
     ]
    }
   ],
   "source": [
    "print('chisq/dof = {:.1f}/{}'.format(th.chisq(DISpoints), len(fitpoints)-len(free_pars)))"
   ]
  },
  {
   "cell_type": "markdown",
   "id": "38279cd0-ba1a-464f-81de-b935f4a048b9",
   "metadata": {},
   "source": [
    "This is the value from the first column in Table 3  (71.6/82)."
   ]
  },
  {
   "cell_type": "code",
   "execution_count": 30,
   "id": "65393e87-f2c6-46c0-bc3d-010b6ba548dc",
   "metadata": {},
   "outputs": [
    {
     "name": "stdout",
     "output_type": "stream",
     "text": [
      "'ns': 0.16780018553930706\n",
      "'al0s': 1.1283626215016564\n",
      "'al0g': 1.0990616571425693\n"
     ]
    }
   ],
   "source": [
    "for par in free_pars:\n",
    "    print(\"'{}': {}\".format(par, th.parameters[par]))"
   ]
  },
  {
   "cell_type": "markdown",
   "id": "1f4eab1c-2630-4de8-82bd-55d6d9a2894e",
   "metadata": {},
   "source": [
    "These values agree with Nsea, alpha^sea, and alpha^G columns of Table 4. (ns=0.168, al0s=1.128, al0g=1.099)"
   ]
  },
  {
   "cell_type": "markdown",
   "id": "9e2feb9a-6b4d-477c-ab9b-a9b04cae43ff",
   "metadata": {},
   "source": [
    "## DVCS, nl-SO3 PW model"
   ]
  },
  {
   "cell_type": "code",
   "execution_count": 31,
   "id": "f711eeec-ea2a-4c9b-8ab8-22e69b25459e",
   "metadata": {},
   "outputs": [],
   "source": [
    "fitpoints = DVCSpoints\n",
    "free_pars = ['ms2', 'secs', 'secg']"
   ]
  },
  {
   "cell_type": "code",
   "execution_count": 32,
   "id": "033d8e8b-279b-4621-90cf-c9b121b78648",
   "metadata": {},
   "outputs": [
    {
     "name": "stdout",
     "output_type": "stream",
     "text": [
      "CPU times: user 11.5 s, sys: 3.31 ms, total: 11.5 s\n",
      "Wall time: 11.5 s\n"
     ]
    }
   ],
   "source": [
    "%%time\n",
    "f = g.MinuitFitter(fitpoints, th)\n",
    "f.minuit.print_level = 1\n",
    "\n",
    "f.fix_parameters('ALL')\n",
    "f.release_parameters(*free_pars)\n",
    "res = f.fit()"
   ]
  },
  {
   "cell_type": "code",
   "execution_count": 33,
   "id": "28dd35c4-15a2-4a85-960d-6896349e67c8",
   "metadata": {},
   "outputs": [
    {
     "name": "stdout",
     "output_type": "stream",
     "text": [
      "chisq/dof = 105.8/98\n"
     ]
    }
   ],
   "source": [
    "print('chisq/dof = {:.1f}/{}'.format(th.chisq(fitpoints), len(fitpoints)-len(free_pars)))"
   ]
  },
  {
   "cell_type": "markdown",
   "id": "d1ceb562-9b67-4b13-9d97-069c5deaefa2",
   "metadata": {},
   "source": [
    "This is close enough to the number in Table 3, (nl, NLO-CSBAR) row, DVCS column =  104./98"
   ]
  },
  {
   "cell_type": "code",
   "execution_count": 34,
   "id": "f0899d40-73f9-4112-953c-ddca4cb4f379",
   "metadata": {},
   "outputs": [
    {
     "name": "stdout",
     "output_type": "stream",
     "text": [
      "'ms2': 0.5778597077034826\n",
      "'secs': -0.006509961901584814\n",
      "'secg': -0.016135260400876653\n"
     ]
    }
   ],
   "source": [
    "for par in free_pars:\n",
    "    print(\"'{}': {}\".format(par, th.parameters[par]))"
   ]
  },
  {
   "cell_type": "markdown",
   "id": "0680e645-28ed-4783-81b0-b8d0d434a539",
   "metadata": {},
   "source": [
    "This closely agrees with Table 4, (nl, NLO-CSBAR) row:  ms=0.58; s^sea = -0.01; s^G = -0.01."
   ]
  }
 ],
 "metadata": {
  "kernelspec": {
   "display_name": "Python 3 (ipykernel)",
   "language": "python",
   "name": "python3"
  },
  "language_info": {
   "codemirror_mode": {
    "name": "ipython",
    "version": 3
   },
   "file_extension": ".py",
   "mimetype": "text/x-python",
   "name": "python",
   "nbconvert_exporter": "python",
   "pygments_lexer": "ipython3",
   "version": "3.10.1"
  },
  "toc-autonumbering": true
 },
 "nbformat": 4,
 "nbformat_minor": 5
}
